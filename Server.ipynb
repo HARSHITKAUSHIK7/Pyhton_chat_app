{
 "cells": [
  {
   "cell_type": "code",
   "execution_count": null,
   "metadata": {},
   "outputs": [
    {
     "name": "stdout",
     "output_type": "stream",
     "text": [
      "Listening for incoming messages..\n",
      "Connected to  127.0.0.1 : 52672\n",
      "Connected to  127.0.0.1 : 52732\n"
     ]
    },
    {
     "name": "stderr",
     "output_type": "stream",
     "text": [
      "Exception in thread Thread-7:\n",
      "Traceback (most recent call last):\n",
      "  File \"C:\\Users\\admin\\Anaconda3\\lib\\threading.py\", line 917, in _bootstrap_inner\n",
      "    self.run()\n",
      "  File \"C:\\Users\\admin\\Anaconda3\\lib\\threading.py\", line 865, in run\n",
      "    self._target(*self._args, **self._kwargs)\n",
      "  File \"<ipython-input-1-ad41fd521a98>\", line 28, in receive_messages\n",
      "    incoming_buffer = so.recv(256)\n",
      "ConnectionResetError: [WinError 10054] An existing connection was forcibly closed by the remote host\n",
      "\n",
      "Exception in thread Thread-6:\n",
      "Traceback (most recent call last):\n",
      "  File \"C:\\Users\\admin\\Anaconda3\\lib\\threading.py\", line 917, in _bootstrap_inner\n",
      "    self.run()\n",
      "  File \"C:\\Users\\admin\\Anaconda3\\lib\\threading.py\", line 865, in run\n",
      "    self._target(*self._args, **self._kwargs)\n",
      "  File \"<ipython-input-1-ad41fd521a98>\", line 28, in receive_messages\n",
      "    incoming_buffer = so.recv(256)\n",
      "ConnectionResetError: [WinError 10054] An existing connection was forcibly closed by the remote host\n",
      "\n"
     ]
    }
   ],
   "source": [
    "import socket\n",
    "import threading\n",
    "\n",
    "\n",
    "class ChatServer:\n",
    "    clients_list = []\n",
    "\n",
    "    last_received_message = \"\"\n",
    "\n",
    "    def __init__(self):\n",
    "        self.server_socket = None\n",
    "        self.create_listening_server()\n",
    "\n",
    "    def create_listening_server(self):\n",
    "        self.server_socket = socket.socket(socket.AF_INET, socket.SOCK_STREAM)\n",
    "        local_ip = '127.0.0.1'\n",
    "        local_port = 10319\n",
    "        # this will allow you to immediately restart a TCP server\n",
    "        self.server_socket.setsockopt(socket.SOL_SOCKET, socket.SO_REUSEADDR, 1)\n",
    "        # this makes the server listen to requests coming from other computers on the network\n",
    "        self.server_socket.bind((local_ip, local_port))\n",
    "        print(\"Listening for incoming messages..\")\n",
    "        self.server_socket.listen(5)\n",
    "        self.receive_messages_in_a_new_thread()\n",
    "\n",
    "    def receive_messages(self, so):\n",
    "        while True:\n",
    "            incoming_buffer = so.recv(256)\n",
    "            if not incoming_buffer:\n",
    "                break\n",
    "            self.last_received_message = incoming_buffer.decode('utf-8')\n",
    "            self.broadcast_to_all_clients(so)  # send to all clients\n",
    "        so.close()\n",
    "\n",
    "    def broadcast_to_all_clients(self, senders_socket):\n",
    "        for client in self.clients_list:\n",
    "            socket, (ip, port) = client\n",
    "            if socket is not senders_socket:\n",
    "                socket.sendall(self.last_received_message.encode('utf-8'))\n",
    "\n",
    "    def receive_messages_in_a_new_thread(self):\n",
    "        while True:\n",
    "            client = so, (ip, port) = self.server_socket.accept()\n",
    "            self.add_to_clients_list(client)\n",
    "            print('Connected to ', ip, ':', str(port))\n",
    "            t = threading.Thread(target=self.receive_messages, args=(so,))\n",
    "            t.start()\n",
    "\n",
    "    def add_to_clients_list(self, client):\n",
    "        if client not in self.clients_list:\n",
    "            self.clients_list.append(client)\n",
    "\n",
    "\n",
    "if __name__ == \"__main__\":\n",
    "    ChatServer()\n"
   ]
  },
  {
   "cell_type": "code",
   "execution_count": null,
   "metadata": {},
   "outputs": [],
   "source": []
  }
 ],
 "metadata": {
  "kernelspec": {
   "display_name": "Python 3",
   "language": "python",
   "name": "python3"
  },
  "language_info": {
   "codemirror_mode": {
    "name": "ipython",
    "version": 3
   },
   "file_extension": ".py",
   "mimetype": "text/x-python",
   "name": "python",
   "nbconvert_exporter": "python",
   "pygments_lexer": "ipython3",
   "version": "3.7.1"
  }
 },
 "nbformat": 4,
 "nbformat_minor": 2
}
